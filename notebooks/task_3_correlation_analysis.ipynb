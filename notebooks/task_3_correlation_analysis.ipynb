{
 "cells": [
  {
   "cell_type": "markdown",
   "id": "e8563cd9-afc0-45c4-9134-1901b93fa70f",
   "metadata": {},
   "source": [
    "# Task 3: Correlation Between News Sentiment and Stock Returns\n",
    "\n",
    "- Loaded and aligned financial news and stock price data by date.\n",
    "- Performed sentiment analysis on news headlines using NLTK VADER.\n",
    "- Calculated daily stock returns from closing prices.\n",
    "- Aggregated daily sentiment scores per stock.\n",
    "- Merged sentiment and returns data, then computed correlation.\n",
    "- Visualized the relationship between news sentiment and stock price movements.\n"
   ]
  },
  {
   "cell_type": "code",
   "execution_count": 3,
   "id": "541b57c6-7eef-4d0e-a76b-70094d1bd980",
   "metadata": {},
   "outputs": [
    {
     "name": "stdout",
     "output_type": "stream",
     "text": [
      "Index(['Unnamed: 0', 'headline', 'url', 'publisher', 'date', 'stock'], dtype='object')\n",
      "   Unnamed: 0                                           headline  \\\n",
      "0           0            Stocks That Hit 52-Week Highs On Friday   \n",
      "1           1         Stocks That Hit 52-Week Highs On Wednesday   \n",
      "2           2                      71 Biggest Movers From Friday   \n",
      "3           3       46 Stocks Moving In Friday's Mid-Day Session   \n",
      "4           4  B of A Securities Maintains Neutral on Agilent...   \n",
      "\n",
      "                                                 url          publisher  \\\n",
      "0  https://www.benzinga.com/news/20/06/16190091/s...  Benzinga Insights   \n",
      "1  https://www.benzinga.com/news/20/06/16170189/s...  Benzinga Insights   \n",
      "2  https://www.benzinga.com/news/20/05/16103463/7...         Lisa Levin   \n",
      "3  https://www.benzinga.com/news/20/05/16095921/4...         Lisa Levin   \n",
      "4  https://www.benzinga.com/news/20/05/16095304/b...         Vick Meyer   \n",
      "\n",
      "                       date stock  \n",
      "0 2020-06-05 00:00:00-04:00     A  \n",
      "1 2020-06-03 00:00:00-04:00     A  \n",
      "2 2020-05-26 00:00:00-04:00     A  \n",
      "3 2020-05-22 00:00:00-04:00     A  \n",
      "4 2020-05-22 00:00:00-04:00     A  \n",
      "        Date      Open      High       Low     Close  Adj Close     Volume  \\\n",
      "0 1980-12-12  0.128348  0.128906  0.128348  0.128348   0.098943  469033600   \n",
      "1 1980-12-15  0.122210  0.122210  0.121652  0.121652   0.093781  175884800   \n",
      "2 1980-12-16  0.113281  0.113281  0.112723  0.112723   0.086898  105728000   \n",
      "3 1980-12-17  0.115513  0.116071  0.115513  0.115513   0.089049   86441600   \n",
      "4 1980-12-18  0.118862  0.119420  0.118862  0.118862   0.091630   73449600   \n",
      "\n",
      "   Dividends  Stock Splits  \n",
      "0        0.0           0.0  \n",
      "1        0.0           0.0  \n",
      "2        0.0           0.0  \n",
      "3        0.0           0.0  \n",
      "4        0.0           0.0  \n"
     ]
    }
   ],
   "source": [
    "import pandas as pd\n",
    "\n",
    "# Load news data\n",
    "news_df = pd.read_csv('../data/raw_analyst_ratings.csv/raw_analyst_ratings.csv')\n",
    "\n",
    "print(news_df.columns)  # check columns\n",
    "\n",
    "# Rename 'data' to 'date' if needed\n",
    "if 'data' in news_df.columns:\n",
    "    news_df.rename(columns={'data': 'date'}, inplace=True)\n",
    "\n",
    "# Convert to datetime explicitly\n",
    "news_df['date'] = pd.to_datetime(news_df['date'], errors='coerce')\n",
    "\n",
    "# Drop rows with invalid dates if any\n",
    "news_df = news_df.dropna(subset=['date'])\n",
    "\n",
    "# Normalize date (set time to midnight)\n",
    "news_df['date'] = news_df['date'].dt.normalize()\n",
    "\n",
    "# Load stock data\n",
    "stock_df = pd.read_csv('../data/yfinance_data/AAPL_historical_data.csv', parse_dates=['Date'])\n",
    "stock_df['Date'] = stock_df['Date'].dt.normalize()\n",
    "\n",
    "print(news_df.head())\n",
    "print(stock_df.head())\n",
    "\n"
   ]
  },
  {
   "cell_type": "code",
   "execution_count": 6,
   "id": "11523786-fc71-4532-a148-695f94f6c184",
   "metadata": {},
   "outputs": [
    {
     "name": "stderr",
     "output_type": "stream",
     "text": [
      "[nltk_data] Downloading package vader_lexicon to\n",
      "[nltk_data]     C:\\Users\\saron\\AppData\\Roaming\\nltk_data...\n",
      "[nltk_data]   Package vader_lexicon is already up-to-date!\n"
     ]
    },
    {
     "name": "stdout",
     "output_type": "stream",
     "text": [
      "                                            headline  sentiment\n",
      "0            Stocks That Hit 52-Week Highs On Friday      0.000\n",
      "1         Stocks That Hit 52-Week Highs On Wednesday      0.000\n",
      "2                      71 Biggest Movers From Friday      0.000\n",
      "3       46 Stocks Moving In Friday's Mid-Day Session      0.000\n",
      "4  B of A Securities Maintains Neutral on Agilent...      0.296\n"
     ]
    }
   ],
   "source": [
    "import nltk\n",
    "from nltk.sentiment.vader import SentimentIntensityAnalyzer\n",
    "\n",
    "# Download VADER lexicon (only need to run once)\n",
    "nltk.download('vader_lexicon')\n",
    "\n",
    "# Initialize sentiment analyzer\n",
    "sid = SentimentIntensityAnalyzer()\n",
    "\n",
    "# Calculate sentiment scores (compound score) for each headline\n",
    "news_df['sentiment'] = news_df['headline'].apply(lambda x: sid.polarity_scores(x)['compound'])\n",
    "\n",
    "# Check output\n",
    "print(news_df[['headline', 'sentiment']].head())\n"
   ]
  },
  {
   "cell_type": "code",
   "execution_count": 7,
   "id": "c922ecc1-fec8-4df2-a382-637f2e332cd0",
   "metadata": {},
   "outputs": [
    {
     "name": "stdout",
     "output_type": "stream",
     "text": [
      "        Date     Close  daily_return\n",
      "0 1980-12-12  0.128348           NaN\n",
      "1 1980-12-15  0.121652     -0.052171\n",
      "2 1980-12-16  0.112723     -0.073398\n",
      "3 1980-12-17  0.115513      0.024751\n",
      "4 1980-12-18  0.118862      0.028992\n"
     ]
    }
   ],
   "source": [
    "# Sort stock data by date just in case\n",
    "stock_df = stock_df.sort_values('Date')\n",
    "\n",
    "# Calculate daily returns (% change)\n",
    "stock_df['daily_return'] = stock_df['Close'].pct_change()\n",
    "\n",
    "# Check the output\n",
    "print(stock_df[['Date', 'Close', 'daily_return']].head())\n"
   ]
  },
  {
   "cell_type": "code",
   "execution_count": 8,
   "id": "7dff4ab2-1fe6-4471-9580-fb155a19019a",
   "metadata": {},
   "outputs": [
    {
     "name": "stdout",
     "output_type": "stream",
     "text": [
      "                       date stock  sentiment\n",
      "0 2011-04-27 00:00:00-04:00   DGP     0.0000\n",
      "1 2011-04-28 00:00:00-04:00   DEJ     0.2500\n",
      "2 2011-04-28 00:00:00-04:00   ESR     0.0000\n",
      "3 2011-04-29 00:00:00-04:00   AIA     0.0000\n",
      "4 2011-04-29 00:00:00-04:00   GDL     0.7351\n"
     ]
    }
   ],
   "source": [
    "# Assuming 'stock' column exists in news_df to identify stock ticker (add if needed)\n",
    "# If not, you need to add a stock ticker column matching each news headline.\n",
    "\n",
    "# Example: add 'stock' column manually if missing for testing\n",
    "# news_df['stock'] = 'AAPL'  # Replace with actual logic or real data\n",
    "\n",
    "daily_sentiment = news_df.groupby(['date', 'stock'])['sentiment'].mean().reset_index()\n",
    "\n",
    "print(daily_sentiment.head())\n"
   ]
  },
  {
   "cell_type": "code",
   "execution_count": 10,
   "id": "06f006da-da66-4e00-b6e8-63f9a03a4dab",
   "metadata": {},
   "outputs": [
    {
     "name": "stdout",
     "output_type": "stream",
     "text": [
      "datetime64[ns, UTC-04:00]\n",
      "datetime64[ns]\n"
     ]
    }
   ],
   "source": [
    "print(daily_sentiment['date'].dtype)\n",
    "print(stock_df['Date'].dtype)\n"
   ]
  },
  {
   "cell_type": "code",
   "execution_count": 11,
   "id": "8219fd30-4e2c-4e65-a4eb-31db9f1e22c2",
   "metadata": {},
   "outputs": [],
   "source": [
    "daily_sentiment['date'] = daily_sentiment['date'].dt.tz_convert('UTC')\n",
    "stock_df['Date'] = stock_df['Date'].dt.tz_localize('UTC')  # add tz info if naive\n"
   ]
  },
  {
   "cell_type": "code",
   "execution_count": 12,
   "id": "60a8e95b-bca0-46cc-8915-32f42a9c5ff4",
   "metadata": {},
   "outputs": [],
   "source": [
    "daily_sentiment['date'] = daily_sentiment['date'].dt.tz_localize(None)\n",
    "stock_df['Date'] = stock_df['Date'].dt.tz_localize(None)\n"
   ]
  },
  {
   "cell_type": "code",
   "execution_count": 13,
   "id": "04f123a8-8af1-4fb3-ac7e-6f500c627052",
   "metadata": {},
   "outputs": [
    {
     "name": "stdout",
     "output_type": "stream",
     "text": [
      "Empty DataFrame\n",
      "Columns: [date, stock, sentiment, daily_return]\n",
      "Index: []\n"
     ]
    }
   ],
   "source": [
    "merged_df = pd.merge(\n",
    "    daily_sentiment,\n",
    "    stock_df[['Date', 'daily_return']],\n",
    "    left_on='date',\n",
    "    right_on='Date',\n",
    "    how='inner'\n",
    ")\n",
    "\n",
    "merged_df = merged_df.drop(columns=['Date'])\n",
    "print(merged_df.head())\n"
   ]
  },
  {
   "cell_type": "code",
   "execution_count": 14,
   "id": "e0248981-2b71-43d1-b88b-c3882445c3d0",
   "metadata": {},
   "outputs": [
    {
     "name": "stdout",
     "output_type": "stream",
     "text": [
      "Correlation between daily sentiment and stock returns: nan\n"
     ]
    }
   ],
   "source": [
    "corr = merged_df['sentiment'].corr(merged_df['daily_return'])\n",
    "print(f'Correlation between daily sentiment and stock returns: {corr:.4f}')\n"
   ]
  },
  {
   "cell_type": "code",
   "execution_count": 15,
   "id": "d944ffa7-64c4-4829-85b1-ac2c6cb572cd",
   "metadata": {},
   "outputs": [
    {
     "name": "stdout",
     "output_type": "stream",
     "text": [
      "Empty DataFrame\n",
      "Columns: [date, stock, sentiment, daily_return]\n",
      "Index: []\n"
     ]
    },
    {
     "name": "stderr",
     "output_type": "stream",
     "text": [
      "C:\\Users\\saron\\AppData\\Local\\Temp\\ipykernel_22836\\1592147204.py:1: FutureWarning: DataFrameGroupBy.apply operated on the grouping columns. This behavior is deprecated, and in a future version of pandas the grouping columns will be excluded from the operation. Either pass `include_groups=False` to exclude the groupings or explicitly select the grouping columns after groupby to silence this warning.\n",
      "  stock_corr = merged_df.groupby('stock').apply(\n"
     ]
    }
   ],
   "source": [
    "stock_corr = merged_df.groupby('stock').apply(\n",
    "    lambda x: x['sentiment'].corr(x['daily_return'])\n",
    ")\n",
    "\n",
    "print(stock_corr)\n"
   ]
  },
  {
   "cell_type": "code",
   "execution_count": 16,
   "id": "be152141-9933-4f9b-be48-1d6ed470986c",
   "metadata": {},
   "outputs": [
    {
     "data": {
      "image/png": "[encoded data removed]",
      "text/plain": [
       "<Figure size 800x500 with 1 Axes>"
      ]
     },
     "metadata": {},
     "output_type": "display_data"
    }
   ],
   "source": [
    "import matplotlib.pyplot as plt\n",
    "import seaborn as sns\n",
    "\n",
    "plt.figure(figsize=(8,5))\n",
    "sns.scatterplot(data=merged_df, x='sentiment', y='daily_return')\n",
    "plt.title('Sentiment vs Daily Stock Return')\n",
    "plt.xlabel('Average Daily Sentiment')\n",
    "plt.ylabel('Daily Return')\n",
    "plt.show()\n"
   ]
  },
  {
   "cell_type": "code",
   "execution_count": 17,
   "id": "61495d05-b3e3-4631-badf-d75afd756208",
   "metadata": {},
   "outputs": [
    {
     "name": "stdout",
     "output_type": "stream",
     "text": [
      "Empty DataFrame\n",
      "Columns: [date, stock, sentiment, daily_return]\n",
      "Index: []\n",
      "       sentiment  daily_return\n",
      "count        0.0           0.0\n",
      "mean         NaN           NaN\n",
      "std          NaN           NaN\n",
      "min          NaN           NaN\n",
      "25%          NaN           NaN\n",
      "50%          NaN           NaN\n",
      "75%          NaN           NaN\n",
      "max          NaN           NaN\n"
     ]
    }
   ],
   "source": [
    "print(merged_df.head())\n",
    "print(merged_df[['sentiment', 'daily_return']].describe())\n"
   ]
  },
  {
   "cell_type": "code",
   "execution_count": 18,
   "id": "933e8585-6b01-4ce0-b9bb-8b293ef233cd",
   "metadata": {},
   "outputs": [
    {
     "name": "stdout",
     "output_type": "stream",
     "text": [
      "                 date stock  sentiment\n",
      "0 2011-04-27 04:00:00   DGP     0.0000\n",
      "1 2011-04-28 04:00:00   DEJ     0.2500\n",
      "2 2011-04-28 04:00:00   ESR     0.0000\n",
      "3 2011-04-29 04:00:00   AIA     0.0000\n",
      "4 2011-04-29 04:00:00   GDL     0.7351\n",
      "2011-04-27 04:00:00 2020-06-11 04:00:00\n",
      "['DGP' 'DEJ' 'ESR' ... 'TSLA' 'UAL' 'GRUB']\n"
     ]
    }
   ],
   "source": [
    "print(daily_sentiment.head())\n",
    "print(daily_sentiment['date'].min(), daily_sentiment['date'].max())\n",
    "print(daily_sentiment['stock'].unique())\n"
   ]
  },
  {
   "cell_type": "code",
   "execution_count": 19,
   "id": "b4252992-e35d-4418-8c41-90abe1f2c3e7",
   "metadata": {},
   "outputs": [
    {
     "name": "stdout",
     "output_type": "stream",
     "text": [
      "        Date      Open      High       Low     Close  Adj Close     Volume  \\\n",
      "0 1980-12-12  0.128348  0.128906  0.128348  0.128348   0.098943  469033600   \n",
      "1 1980-12-15  0.122210  0.122210  0.121652  0.121652   0.093781  175884800   \n",
      "2 1980-12-16  0.113281  0.113281  0.112723  0.112723   0.086898  105728000   \n",
      "3 1980-12-17  0.115513  0.116071  0.115513  0.115513   0.089049   86441600   \n",
      "4 1980-12-18  0.118862  0.119420  0.118862  0.118862   0.091630   73449600   \n",
      "\n",
      "   Dividends  Stock Splits  daily_return  \n",
      "0        0.0           0.0           NaN  \n",
      "1        0.0           0.0     -0.052171  \n",
      "2        0.0           0.0     -0.073398  \n",
      "3        0.0           0.0      0.024751  \n",
      "4        0.0           0.0      0.028992  \n",
      "1980-12-12 00:00:00 2024-07-30 00:00:00\n"
     ]
    }
   ],
   "source": [
    "print(stock_df.head())\n",
    "print(stock_df['Date'].min(), stock_df['Date'].max())\n"
   ]
  },
  {
   "cell_type": "code",
   "execution_count": 20,
   "id": "ffbb2f30-638c-4b82-bdf8-22dea6f237e8",
   "metadata": {},
   "outputs": [
    {
     "name": "stdout",
     "output_type": "stream",
     "text": [
      "datetime64[ns] datetime64[ns]\n",
      "['DGP' 'DEJ' 'ESR' ... 'TSLA' 'UAL' 'GRUB']\n"
     ]
    }
   ],
   "source": [
    "print(daily_sentiment['date'].dtype, stock_df['Date'].dtype)\n",
    "print(daily_sentiment['stock'].unique())\n"
   ]
  },
  {
   "cell_type": "code",
   "execution_count": 21,
   "id": "24de867f-6004-4861-97f9-3899fbc61fc3",
   "metadata": {},
   "outputs": [],
   "source": [
    "daily_sentiment['date'] = pd.to_datetime(daily_sentiment['date']).dt.normalize()\n",
    "stock_df['Date'] = pd.to_datetime(stock_df['Date']).dt.normalize()\n"
   ]
  },
  {
   "cell_type": "code",
   "execution_count": 27,
   "id": "8020a5f5-2cfa-4feb-8f11-232d1386aac4",
   "metadata": {},
   "outputs": [],
   "source": [
    "merged_df = pd.merge(\n",
    "    daily_sentiment,\n",
    "    stock_df[['Date', 'daily_return', 'stock']],  # include 'stock'\n",
    "    left_on=['date', 'stock'],\n",
    "    right_on=['Date', 'stock'],\n",
    "    how='inner'\n",
    ")\n"
   ]
  },
  {
   "cell_type": "code",
   "execution_count": 26,
   "id": "3c22740c-748f-4ba6-9086-67a8507be362",
   "metadata": {},
   "outputs": [],
   "source": [
    "# Assuming stock_df loaded for AAPL:\n",
    "stock_df['stock'] = 'AAPL'\n",
    "\n",
    "# Normalize dates\n",
    "stock_df['Date'] = pd.to_datetime(stock_df['Date']).dt.normalize()\n",
    "daily_sentiment['date'] = pd.to_datetime(daily_sentiment['date']).dt.normalize()\n",
    "\n",
    "# Merge on date and stock symbol\n",
    "merged_df = pd.merge(\n",
    "    daily_sentiment,\n",
    "    stock_df[['Date', 'daily_return', 'stock']],\n",
    "    left_on=['date', 'stock'],\n",
    "    right_on=['Date', 'stock'],\n",
    "    how='inner'\n",
    ")\n",
    "\n",
    "merged_df = merged_df.drop(columns=['Date'])\n"
   ]
  },
  {
   "cell_type": "code",
   "execution_count": 28,
   "id": "0cdd1077-06dc-474b-bfe2-b61f98b6e250",
   "metadata": {},
   "outputs": [
    {
     "name": "stdout",
     "output_type": "stream",
     "text": [
      "Correlation between daily sentiment and stock returns: 1.0000\n"
     ]
    }
   ],
   "source": [
    "corr = merged_df['sentiment'].corr(merged_df['daily_return'])\n",
    "print(f'Correlation between daily sentiment and stock returns: {corr:.4f}')\n"
   ]
  },
  {
   "cell_type": "code",
   "execution_count": 29,
   "id": "cdcc27a0-c1ca-4a22-9dd2-3bfcc39e7fc9",
   "metadata": {},
   "outputs": [
    {
     "name": "stdout",
     "output_type": "stream",
     "text": [
      "stock\n",
      "AAPL    1.0\n",
      "dtype: float64\n"
     ]
    },
    {
     "name": "stderr",
     "output_type": "stream",
     "text": [
      "C:\\Users\\saron\\AppData\\Local\\Temp\\ipykernel_22836\\4202691937.py:1: FutureWarning: DataFrameGroupBy.apply operated on the grouping columns. This behavior is deprecated, and in a future version of pandas the grouping columns will be excluded from the operation. Either pass `include_groups=False` to exclude the groupings or explicitly select the grouping columns after groupby to silence this warning.\n",
      "  corr_per_stock = merged_df.groupby('stock').apply(\n"
     ]
    }
   ],
   "source": [
    "corr_per_stock = merged_df.groupby('stock').apply(\n",
    "    lambda x: x['sentiment'].corr(x['daily_return'])\n",
    ")\n",
    "\n",
    "print(corr_per_stock)\n"
   ]
  },
  {
   "cell_type": "code",
   "execution_count": 30,
   "id": "a92f491c-957f-4b89-b0fb-629e9373a817",
   "metadata": {},
   "outputs": [
    {
     "data": {
      "image/png": "[encoded data removed]",
      "text/plain": [
       "<Figure size 800x500 with 1 Axes>"
      ]
     },
     "metadata": {},
     "output_type": "display_data"
    }
   ],
   "source": [
    "import matplotlib.pyplot as plt\n",
    "import seaborn as sns\n",
    "\n",
    "plt.figure(figsize=(8,5))\n",
    "sns.scatterplot(data=merged_df, x='sentiment', y='daily_return', hue='stock')\n",
    "plt.title('Sentiment vs Daily Stock Return')\n",
    "plt.xlabel('Average Daily Sentiment')\n",
    "plt.ylabel('Daily Return')\n",
    "plt.show()\n"
   ]
  },
  {
   "cell_type": "code",
   "execution_count": 31,
   "id": "e01d76fb-0f96-4fe6-9005-1769a33ea482",
   "metadata": {},
   "outputs": [
    {
     "data": {
      "image/png": "[encoded data removed]",
      "text/plain": [
       "<Figure size 1200x600 with 1 Axes>"
      ]
     },
     "metadata": {},
     "output_type": "display_data"
    }
   ],
   "source": [
    "plt.figure(figsize=(12,6))\n",
    "for stock in merged_df['stock'].unique():\n",
    "    stock_data = merged_df[merged_df['stock'] == stock]\n",
    "    plt.plot(stock_data['date'], stock_data['sentiment'], label=f'{stock} Sentiment')\n",
    "\n",
    "plt.legend()\n",
    "plt.title('Daily Sentiment Over Time')\n",
    "plt.xlabel('Date')\n",
    "plt.ylabel('Sentiment Score')\n",
    "plt.show()\n"
   ]
  },
  {
   "cell_type": "code",
   "execution_count": null,
   "id": "257308ef-9265-4ec7-9f7e-2e15a9f7960e",
   "metadata": {},
   "outputs": [],
   "source": []
  }
 ],
 "metadata": {
  "kernelspec": {
   "display_name": "Python 3 (ipykernel)",
   "language": "python",
   "name": "python3"
  },
  "language_info": {
   "codemirror_mode": {
    "name": "ipython",
    "version": 3
   },
   "file_extension": ".py",
   "mimetype": "text/x-python",
   "name": "python",
   "nbconvert_exporter": "python",
   "pygments_lexer": "ipython3",
   "version": "3.11.4"
  }
 },
 "nbformat": 4,
 "nbformat_minor": 5
}
