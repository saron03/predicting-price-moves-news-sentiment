{
 "cells": [
  {
   "cell_type": "code",
   "execution_count": null,
   "id": "c86e695f-11d2-4a6b-8c56-750e8c6fb902",
   "metadata": {},
   "outputs": [],
   "source": [
    "import pandas as pd\n",
    "\n",
    "# Load stock price CSV (replace with your actual file)\n",
    "df_prices = pd.read_csv('../data/stock_prices.csv', parse_dates=['Date'])\n",
    "\n",
    "df_prices.head()\n"
   ]
  }
 ],
 "metadata": {
  "kernelspec": {
   "display_name": "Python 3 (ipykernel)",
   "language": "python",
   "name": "python3"
  },
  "language_info": {
   "codemirror_mode": {
    "name": "ipython",
    "version": 3
   },
   "file_extension": ".py",
   "mimetype": "text/x-python",
   "name": "python",
   "nbconvert_exporter": "python",
   "pygments_lexer": "ipython3",
   "version": "3.11.4"
  }
 },
 "nbformat": 4,
 "nbformat_minor": 5
}
